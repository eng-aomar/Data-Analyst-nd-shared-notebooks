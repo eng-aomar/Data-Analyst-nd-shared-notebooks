{
  "cells": [
    {
      "cell_type": "markdown",
      "metadata": {
        "id": "RN9PXIW4exzb"
      },
      "source": [
        "# Introduction to firewall Log File\n",
        "\n",
        "\n",
        "---\n",
        "\n",
        "The firewall log file contains detailed records of network activity, capturing various fields that describe the nature of each event. Below is an explanation of the key fields present in the log file:\n",
        "\n",
        "- **Time**: The timestamp when the event was logged.\n",
        "- **Log comp**: The component of the firewall that generated the log.\n",
        "- **Log subtype**: The subtype of the log event, indicating the action taken (e.g., Allowed, Blocked).\n",
        "- **Username**: The username associated with the event, if applicable.\n",
        "- **Firewall rule**: The ID of the firewall rule that processed the event.\n",
        "- **Firewall rule name**: The name of the firewall rule that processed the event.\n",
        "- **NAT rule**: The ID of the NAT rule applied to the event.\n",
        "- **NAT rule name**: The name of the NAT rule applied to the event.\n",
        "- **In interface**: The network interface where the traffic originated.\n",
        "- **Out interface**: The network interface where the traffic was sent.\n",
        "- **Src IP**: The source IP address of the traffic.\n",
        "- **Dst IP**: The destination IP address of the traffic.\n",
        "- **Src port**: The source port number of the traffic.\n",
        "- **Dst port**: The destination port number of the traffic.\n",
        "- **Protocol**: The protocol used by the traffic (e.g., TCP, UDP).\n",
        "- **Rule type**: The type of rule (e.g., 1 for firewall rule).\n",
        "- **Live PCAP**: Indicator for live packet capture availability.\n",
        "- **Message**: Additional message or information related to the event.\n",
        "- **Log occurrence**: Number of times this log entry has been logged.\n",
        "\n"
      ]
    },
    {
      "cell_type": "markdown",
      "metadata": {
        "id": "UcBnYsgHfe1u"
      },
      "source": [
        "## Objective:\n",
        "\n",
        "\n",
        "---\n",
        "Students should concentrate on exploratory and explanatory data analysis using univariate exploration of data and understand what constitutes good vs. bad data visualization. Here are some questions to guide their analysis:\n",
        "\n",
        "**Basic Statistics:**\n",
        "\n",
        "---\n",
        "\n",
        "\n",
        "\n",
        "* What is the total number of log entries in the dataset?\n",
        "* How many unique firewall rules are present in the dataset?\n",
        "* How many unique NAT rules are present in the dataset?"
      ]
    },
    {
      "cell_type": "markdown",
      "metadata": {
        "id": "VnKLzxicgKtt"
      },
      "source": [
        "**Time-Based Analysis**\n",
        "\n",
        "---\n",
        "\n",
        "\n",
        "\n",
        "* What is the distribution of log entries over time? (Create a histogram of log entries by time)\n",
        "* Identify peak times of network activity based on the number of log entries."
      ]
    },
    {
      "cell_type": "markdown",
      "metadata": {
        "id": "l6xXJK9BgRSP"
      },
      "source": [
        "**Source and Destination IP Analysis**\n",
        "\n",
        "\n",
        "---\n",
        "\n",
        "\n",
        "* List the top 10 most frequent source IP addresses.\n",
        "* List the top 10 most frequent destination IP addresses.\n",
        "* Visualize the distribution of source and destination IP addresses."
      ]
    },
    {
      "cell_type": "markdown",
      "metadata": {
        "id": "-B6MUqWHgavV"
      },
      "source": [
        "**Port Analysis**\n",
        "\n",
        "\n",
        "---\n",
        "\n",
        "\n",
        "\n",
        "* Identify the most common source and destination ports.\n",
        "* Visualize the distribution of source and destination ports using bar charts."
      ]
    },
    {
      "cell_type": "markdown",
      "metadata": {
        "id": "4g1gJlRFgmlc"
      },
      "source": [
        "**Protocol Analysis**\n",
        "\n",
        "---\n",
        "\n",
        "\n",
        "\n",
        "* What is the distribution of protocols used in the log entries?\n",
        "* Visualize the protocol distribution with a pie chart or bar chart."
      ]
    },
    {
      "cell_type": "markdown",
      "metadata": {
        "id": "7SKs_vN-jYJP"
      },
      "source": [
        "**Firewall and NAT Rule Analysis**\n",
        "\n",
        "---\n",
        "\n",
        "* Which firewall rule has the most log entries?\n",
        "* Which NAT rule is applied most frequently?\n",
        "* Visualize the distribution of firewall and NAT rule usage.\n"
      ]
    },
    {
      "cell_type": "code",
      "execution_count": 1,
      "metadata": {
        "colab": {
          "base_uri": "https://localhost:8080/"
        },
        "id": "lB0g1vaUkt8x",
        "outputId": "d2af0a7d-55cc-4ccf-a93d-c7077f2a9b7a"
      },
      "outputs": [
        {
          "name": "stdout",
          "output_type": "stream",
          "text": [
            "Collecting skimpy\n",
            "  Downloading skimpy-0.0.15-py3-none-any.whl (16 kB)\n",
            "Requirement already satisfied: Pygments<3.0.0,>=2.10.0 in /usr/local/lib/python3.10/dist-packages (from skimpy) (2.16.1)\n",
            "Requirement already satisfied: click<9.0.0,>=8.1.6 in /usr/local/lib/python3.10/dist-packages (from skimpy) (8.1.7)\n",
            "Collecting ipykernel<7.0.0,>=6.7.0 (from skimpy)\n",
            "  Downloading ipykernel-6.29.5-py3-none-any.whl (117 kB)\n",
            "\u001b[2K     \u001b[90m━━━━━━━━━━━━━━━━━━━━━━━━━━━━━━━━━━━━━━━━\u001b[0m \u001b[32m117.2/117.2 kB\u001b[0m \u001b[31m4.0 MB/s\u001b[0m eta \u001b[36m0:00:00\u001b[0m\n",
            "\u001b[?25hRequirement already satisfied: numpy<2.0.0,>=1.22.2 in /usr/local/lib/python3.10/dist-packages (from skimpy) (1.25.2)\n",
            "Requirement already satisfied: pandas<3.0.0,>=2.0.3 in /usr/local/lib/python3.10/dist-packages (from skimpy) (2.0.3)\n",
            "Requirement already satisfied: polars<0.21,>=0.19 in /usr/local/lib/python3.10/dist-packages (from skimpy) (0.20.2)\n",
            "Requirement already satisfied: pyarrow<17,>=13 in /usr/local/lib/python3.10/dist-packages (from skimpy) (14.0.2)\n",
            "Requirement already satisfied: rich<14.0,>=10.9 in /usr/local/lib/python3.10/dist-packages (from skimpy) (13.7.1)\n",
            "Collecting typeguard==4.2.1 (from skimpy)\n",
            "  Downloading typeguard-4.2.1-py3-none-any.whl (34 kB)\n",
            "Requirement already satisfied: typing-extensions>=4.10.0 in /usr/local/lib/python3.10/dist-packages (from typeguard==4.2.1->skimpy) (4.12.2)\n",
            "Collecting comm>=0.1.1 (from ipykernel<7.0.0,>=6.7.0->skimpy)\n",
            "  Downloading comm-0.2.2-py3-none-any.whl (7.2 kB)\n",
            "Requirement already satisfied: debugpy>=1.6.5 in /usr/local/lib/python3.10/dist-packages (from ipykernel<7.0.0,>=6.7.0->skimpy) (1.6.6)\n",
            "Requirement already satisfied: ipython>=7.23.1 in /usr/local/lib/python3.10/dist-packages (from ipykernel<7.0.0,>=6.7.0->skimpy) (7.34.0)\n",
            "Requirement already satisfied: jupyter-client>=6.1.12 in /usr/local/lib/python3.10/dist-packages (from ipykernel<7.0.0,>=6.7.0->skimpy) (6.1.12)\n",
            "Requirement already satisfied: jupyter-core!=5.0.*,>=4.12 in /usr/local/lib/python3.10/dist-packages (from ipykernel<7.0.0,>=6.7.0->skimpy) (5.7.2)\n",
            "Requirement already satisfied: matplotlib-inline>=0.1 in /usr/local/lib/python3.10/dist-packages (from ipykernel<7.0.0,>=6.7.0->skimpy) (0.1.7)\n",
            "Requirement already satisfied: nest-asyncio in /usr/local/lib/python3.10/dist-packages (from ipykernel<7.0.0,>=6.7.0->skimpy) (1.6.0)\n",
            "Requirement already satisfied: packaging in /usr/local/lib/python3.10/dist-packages (from ipykernel<7.0.0,>=6.7.0->skimpy) (24.1)\n",
            "Requirement already satisfied: psutil in /usr/local/lib/python3.10/dist-packages (from ipykernel<7.0.0,>=6.7.0->skimpy) (5.9.5)\n",
            "Requirement already satisfied: pyzmq>=24 in /usr/local/lib/python3.10/dist-packages (from ipykernel<7.0.0,>=6.7.0->skimpy) (24.0.1)\n",
            "Requirement already satisfied: tornado>=6.1 in /usr/local/lib/python3.10/dist-packages (from ipykernel<7.0.0,>=6.7.0->skimpy) (6.3.3)\n",
            "Requirement already satisfied: traitlets>=5.4.0 in /usr/local/lib/python3.10/dist-packages (from ipykernel<7.0.0,>=6.7.0->skimpy) (5.7.1)\n",
            "Requirement already satisfied: python-dateutil>=2.8.2 in /usr/local/lib/python3.10/dist-packages (from pandas<3.0.0,>=2.0.3->skimpy) (2.8.2)\n",
            "Requirement already satisfied: pytz>=2020.1 in /usr/local/lib/python3.10/dist-packages (from pandas<3.0.0,>=2.0.3->skimpy) (2023.4)\n",
            "Requirement already satisfied: tzdata>=2022.1 in /usr/local/lib/python3.10/dist-packages (from pandas<3.0.0,>=2.0.3->skimpy) (2024.1)\n",
            "Requirement already satisfied: markdown-it-py>=2.2.0 in /usr/local/lib/python3.10/dist-packages (from rich<14.0,>=10.9->skimpy) (3.0.0)\n",
            "Requirement already satisfied: setuptools>=18.5 in /usr/local/lib/python3.10/dist-packages (from ipython>=7.23.1->ipykernel<7.0.0,>=6.7.0->skimpy) (67.7.2)\n",
            "Collecting jedi>=0.16 (from ipython>=7.23.1->ipykernel<7.0.0,>=6.7.0->skimpy)\n",
            "  Downloading jedi-0.19.1-py2.py3-none-any.whl (1.6 MB)\n",
            "\u001b[2K     \u001b[90m━━━━━━━━━━━━━━━━━━━━━━━━━━━━━━━━━━━━━━━━\u001b[0m \u001b[32m1.6/1.6 MB\u001b[0m \u001b[31m11.7 MB/s\u001b[0m eta \u001b[36m0:00:00\u001b[0m\n",
            "\u001b[?25hRequirement already satisfied: decorator in /usr/local/lib/python3.10/dist-packages (from ipython>=7.23.1->ipykernel<7.0.0,>=6.7.0->skimpy) (4.4.2)\n",
            "Requirement already satisfied: pickleshare in /usr/local/lib/python3.10/dist-packages (from ipython>=7.23.1->ipykernel<7.0.0,>=6.7.0->skimpy) (0.7.5)\n",
            "Requirement already satisfied: prompt-toolkit!=3.0.0,!=3.0.1,<3.1.0,>=2.0.0 in /usr/local/lib/python3.10/dist-packages (from ipython>=7.23.1->ipykernel<7.0.0,>=6.7.0->skimpy) (3.0.47)\n",
            "Requirement already satisfied: backcall in /usr/local/lib/python3.10/dist-packages (from ipython>=7.23.1->ipykernel<7.0.0,>=6.7.0->skimpy) (0.2.0)\n",
            "Requirement already satisfied: pexpect>4.3 in /usr/local/lib/python3.10/dist-packages (from ipython>=7.23.1->ipykernel<7.0.0,>=6.7.0->skimpy) (4.9.0)\n",
            "Requirement already satisfied: platformdirs>=2.5 in /usr/local/lib/python3.10/dist-packages (from jupyter-core!=5.0.*,>=4.12->ipykernel<7.0.0,>=6.7.0->skimpy) (4.2.2)\n",
            "Requirement already satisfied: mdurl~=0.1 in /usr/local/lib/python3.10/dist-packages (from markdown-it-py>=2.2.0->rich<14.0,>=10.9->skimpy) (0.1.2)\n",
            "Requirement already satisfied: six>=1.5 in /usr/local/lib/python3.10/dist-packages (from python-dateutil>=2.8.2->pandas<3.0.0,>=2.0.3->skimpy) (1.16.0)\n",
            "Requirement already satisfied: parso<0.9.0,>=0.8.3 in /usr/local/lib/python3.10/dist-packages (from jedi>=0.16->ipython>=7.23.1->ipykernel<7.0.0,>=6.7.0->skimpy) (0.8.4)\n",
            "Requirement already satisfied: ptyprocess>=0.5 in /usr/local/lib/python3.10/dist-packages (from pexpect>4.3->ipython>=7.23.1->ipykernel<7.0.0,>=6.7.0->skimpy) (0.7.0)\n",
            "Requirement already satisfied: wcwidth in /usr/local/lib/python3.10/dist-packages (from prompt-toolkit!=3.0.0,!=3.0.1,<3.1.0,>=2.0.0->ipython>=7.23.1->ipykernel<7.0.0,>=6.7.0->skimpy) (0.2.13)\n",
            "Installing collected packages: typeguard, jedi, comm, ipykernel, skimpy\n",
            "  Attempting uninstall: ipykernel\n",
            "    Found existing installation: ipykernel 5.5.6\n",
            "    Uninstalling ipykernel-5.5.6:\n",
            "      Successfully uninstalled ipykernel-5.5.6\n",
            "\u001b[31mERROR: pip's dependency resolver does not currently take into account all the packages that are installed. This behaviour is the source of the following dependency conflicts.\n",
            "google-colab 1.0.0 requires ipykernel==5.5.6, but you have ipykernel 6.29.5 which is incompatible.\u001b[0m\u001b[31m\n",
            "\u001b[0mSuccessfully installed comm-0.2.2 ipykernel-6.29.5 jedi-0.19.1 skimpy-0.0.15 typeguard-4.2.1\n"
          ]
        }
      ],
      "source": [
        "!pip install skimpy"
      ]
    },
    {
      "cell_type": "code",
      "execution_count": 1,
      "metadata": {
        "id": "P_3Njk-QfeKq"
      },
      "outputs": [
        {
          "name": "stderr",
          "output_type": "stream",
          "text": [
            "c:\\Users\\SS\\AppData\\Local\\Programs\\Python\\Python311\\Lib\\site-packages\\scipy\\__init__.py:169: UserWarning: A NumPy version >=1.18.5 and <1.26.0 is required for this version of SciPy (detected version 1.26.4\n",
            "  warnings.warn(f\"A NumPy version >={np_minversion} and <{np_maxversion}\"\n"
          ]
        }
      ],
      "source": [
        "import pandas as pd\n",
        "import numpy as np\n",
        "import matplotlib.pyplot as plt\n",
        "import seaborn as sns\n",
        "from skimpy import skim"
      ]
    },
    {
      "cell_type": "code",
      "execution_count": 3,
      "metadata": {
        "id": "y2vZsf2oky7x"
      },
      "outputs": [],
      "source": [
        "df=pd.read_csv('../Data/new-logs.csv')"
      ]
    },
    {
      "cell_type": "code",
      "execution_count": 4,
      "metadata": {
        "colab": {
          "base_uri": "https://localhost:8080/",
          "height": 716
        },
        "id": "0N8maU1Fk1bn",
        "outputId": "fedf5dd7-29f7-4f24-c1ec-632da4dc5bf4"
      },
      "outputs": [
        {
          "name": "stderr",
          "output_type": "stream",
          "text": [
            "c:\\Users\\SS\\AppData\\Local\\Programs\\Python\\Python311\\Lib\\site-packages\\numpy\\lib\\histograms.py:885: RuntimeWarning: invalid value encountered in divide\n",
            "  return n/db/n.sum(), bin_edges\n"
          ]
        },
        {
          "data": {
            "text/html": [
              "<pre style=\"white-space:pre;overflow-x:auto;line-height:normal;font-family:Menlo,'DejaVu Sans Mono',consolas,'Courier New',monospace\">╭──────────────────────────────────────────────── skimpy summary ─────────────────────────────────────────────────╮\n",
              "│ <span style=\"font-style: italic\">         Data Summary         </span> <span style=\"font-style: italic\">      Data Types       </span>                                                          │\n",
              "│ ┏━━━━━━━━━━━━━━━━━━━┳━━━━━━━━┓ ┏━━━━━━━━━━━━━┳━━━━━━━┓                                                          │\n",
              "│ ┃<span style=\"color: #008080; text-decoration-color: #008080; font-weight: bold\"> dataframe         </span>┃<span style=\"color: #008080; text-decoration-color: #008080; font-weight: bold\"> Values </span>┃ ┃<span style=\"color: #008080; text-decoration-color: #008080; font-weight: bold\"> Column Type </span>┃<span style=\"color: #008080; text-decoration-color: #008080; font-weight: bold\"> Count </span>┃                                                          │\n",
              "│ ┡━━━━━━━━━━━━━━━━━━━╇━━━━━━━━┩ ┡━━━━━━━━━━━━━╇━━━━━━━┩                                                          │\n",
              "│ │ Number of rows    │ 200    │ │ string      │ 12    │                                                          │\n",
              "│ │ Number of columns │ 20     │ │ int32       │ 5     │                                                          │\n",
              "│ └───────────────────┴────────┘ │ float64     │ 3     │                                                          │\n",
              "│                                └─────────────┴───────┘                                                          │\n",
              "│ <span style=\"font-style: italic\">                                                    number                                                    </span>  │\n",
              "│ ┏━━━━━━━━━━━━━━━━━━━┳━━━━━━┳━━━━━━━┳━━━━━━━━━┳━━━━━━━━━━━┳━━━━━━┳━━━━━━━━┳━━━━━━━━┳━━━━━━━━┳━━━━━━━━┳━━━━━━━━┓  │\n",
              "│ ┃<span style=\"font-weight: bold\"> column_name       </span>┃<span style=\"font-weight: bold\"> NA   </span>┃<span style=\"font-weight: bold\"> NA %  </span>┃<span style=\"font-weight: bold\"> mean    </span>┃<span style=\"font-weight: bold\"> sd        </span>┃<span style=\"font-weight: bold\"> p0   </span>┃<span style=\"font-weight: bold\"> p25    </span>┃<span style=\"font-weight: bold\"> p50    </span>┃<span style=\"font-weight: bold\"> p75    </span>┃<span style=\"font-weight: bold\"> p100   </span>┃<span style=\"font-weight: bold\"> hist   </span>┃  │\n",
              "│ ┡━━━━━━━━━━━━━━━━━━━╇━━━━━━╇━━━━━━━╇━━━━━━━━━╇━━━━━━━━━━━╇━━━━━━╇━━━━━━━━╇━━━━━━━━╇━━━━━━━━╇━━━━━━━━╇━━━━━━━━┩  │\n",
              "│ │ <span style=\"color: #af87ff; text-decoration-color: #af87ff\">Username         </span> │ <span style=\"color: #008080; text-decoration-color: #008080\"> 200</span> │ <span style=\"color: #008080; text-decoration-color: #008080\">  100</span> │ <span style=\"color: #008080; text-decoration-color: #008080\">    nan</span> │ <span style=\"color: #008080; text-decoration-color: #008080\">      nan</span> │ <span style=\"color: #008080; text-decoration-color: #008080\"> nan</span> │ <span style=\"color: #008080; text-decoration-color: #008080\">   nan</span> │ <span style=\"color: #008080; text-decoration-color: #008080\">   nan</span> │ <span style=\"color: #008080; text-decoration-color: #008080\">   nan</span> │ <span style=\"color: #008080; text-decoration-color: #008080\">   nan</span> │ <span style=\"color: #008000; text-decoration-color: #008000\">      </span> │  │\n",
              "│ │ <span style=\"color: #af87ff; text-decoration-color: #af87ff\">Firewall rule    </span> │ <span style=\"color: #008080; text-decoration-color: #008080\">   2</span> │ <span style=\"color: #008080; text-decoration-color: #008080\">    1</span> │ <span style=\"color: #008080; text-decoration-color: #008080\">  24.97</span> │ <span style=\"color: #008080; text-decoration-color: #008080\">    22.61</span> │ <span style=\"color: #008080; text-decoration-color: #008080\">   2</span> │ <span style=\"color: #008080; text-decoration-color: #008080\">     2</span> │ <span style=\"color: #008080; text-decoration-color: #008080\">    20</span> │ <span style=\"color: #008080; text-decoration-color: #008080\">    48</span> │ <span style=\"color: #008080; text-decoration-color: #008080\">    55</span> │ <span style=\"color: #008000; text-decoration-color: #008000\">▇ ▁▁▁▆</span> │  │\n",
              "│ │ <span style=\"color: #af87ff; text-decoration-color: #af87ff\">NAT rule         </span> │ <span style=\"color: #008080; text-decoration-color: #008080\">   0</span> │ <span style=\"color: #008080; text-decoration-color: #008080\">    0</span> │ <span style=\"color: #008080; text-decoration-color: #008080\">  13.73</span> │ <span style=\"color: #008080; text-decoration-color: #008080\">    3.265</span> │ <span style=\"color: #008080; text-decoration-color: #008080\">   0</span> │ <span style=\"color: #008080; text-decoration-color: #008080\">    15</span> │ <span style=\"color: #008080; text-decoration-color: #008080\">    15</span> │ <span style=\"color: #008080; text-decoration-color: #008080\">    15</span> │ <span style=\"color: #008080; text-decoration-color: #008080\">    15</span> │ <span style=\"color: #008000; text-decoration-color: #008000\">    ▁▇</span> │  │\n",
              "│ │ <span style=\"color: #af87ff; text-decoration-color: #af87ff\">Src port         </span> │ <span style=\"color: #008080; text-decoration-color: #008080\">   0</span> │ <span style=\"color: #008080; text-decoration-color: #008080\">    0</span> │ <span style=\"color: #008080; text-decoration-color: #008080\">  51730</span> │ <span style=\"color: #008080; text-decoration-color: #008080\">    11450</span> │ <span style=\"color: #008080; text-decoration-color: #008080\">   0</span> │ <span style=\"color: #008080; text-decoration-color: #008080\"> 52460</span> │ <span style=\"color: #008080; text-decoration-color: #008080\"> 54160</span> │ <span style=\"color: #008080; text-decoration-color: #008080\"> 54610</span> │ <span style=\"color: #008080; text-decoration-color: #008080\"> 65380</span> │ <span style=\"color: #008000; text-decoration-color: #008000\">▁  ▁▇▇</span> │  │\n",
              "│ │ <span style=\"color: #af87ff; text-decoration-color: #af87ff\">Dst port         </span> │ <span style=\"color: #008080; text-decoration-color: #008080\">   0</span> │ <span style=\"color: #008080; text-decoration-color: #008080\">    0</span> │ <span style=\"color: #008080; text-decoration-color: #008080\">  250.5</span> │ <span style=\"color: #008080; text-decoration-color: #008080\">    306.7</span> │ <span style=\"color: #008080; text-decoration-color: #008080\">   0</span> │ <span style=\"color: #008080; text-decoration-color: #008080\">    53</span> │ <span style=\"color: #008080; text-decoration-color: #008080\">    80</span> │ <span style=\"color: #008080; text-decoration-color: #008080\">   443</span> │ <span style=\"color: #008080; text-decoration-color: #008080\">  3544</span> │ <span style=\"color: #008000; text-decoration-color: #008000\">  ▇   </span> │  │\n",
              "│ │ <span style=\"color: #af87ff; text-decoration-color: #af87ff\">Rule type        </span> │ <span style=\"color: #008080; text-decoration-color: #008080\">   0</span> │ <span style=\"color: #008080; text-decoration-color: #008080\">    0</span> │ <span style=\"color: #008080; text-decoration-color: #008080\">   0.99</span> │ <span style=\"color: #008080; text-decoration-color: #008080\">  0.09975</span> │ <span style=\"color: #008080; text-decoration-color: #008080\">   0</span> │ <span style=\"color: #008080; text-decoration-color: #008080\">     1</span> │ <span style=\"color: #008080; text-decoration-color: #008080\">     1</span> │ <span style=\"color: #008080; text-decoration-color: #008080\">     1</span> │ <span style=\"color: #008080; text-decoration-color: #008080\">     1</span> │ <span style=\"color: #008000; text-decoration-color: #008000\">     ▇</span> │  │\n",
              "│ │ <span style=\"color: #af87ff; text-decoration-color: #af87ff\">Log occurrence   </span> │ <span style=\"color: #008080; text-decoration-color: #008080\">   0</span> │ <span style=\"color: #008080; text-decoration-color: #008080\">    0</span> │ <span style=\"color: #008080; text-decoration-color: #008080\">      1</span> │ <span style=\"color: #008080; text-decoration-color: #008080\">        0</span> │ <span style=\"color: #008080; text-decoration-color: #008080\">   1</span> │ <span style=\"color: #008080; text-decoration-color: #008080\">     1</span> │ <span style=\"color: #008080; text-decoration-color: #008080\">     1</span> │ <span style=\"color: #008080; text-decoration-color: #008080\">     1</span> │ <span style=\"color: #008080; text-decoration-color: #008080\">     1</span> │ <span style=\"color: #008000; text-decoration-color: #008000\">    ▇ </span> │  │\n",
              "│ │ <span style=\"color: #af87ff; text-decoration-color: #af87ff\">Unnamed: 19      </span> │ <span style=\"color: #008080; text-decoration-color: #008080\"> 200</span> │ <span style=\"color: #008080; text-decoration-color: #008080\">  100</span> │ <span style=\"color: #008080; text-decoration-color: #008080\">    nan</span> │ <span style=\"color: #008080; text-decoration-color: #008080\">      nan</span> │ <span style=\"color: #008080; text-decoration-color: #008080\"> nan</span> │ <span style=\"color: #008080; text-decoration-color: #008080\">   nan</span> │ <span style=\"color: #008080; text-decoration-color: #008080\">   nan</span> │ <span style=\"color: #008080; text-decoration-color: #008080\">   nan</span> │ <span style=\"color: #008080; text-decoration-color: #008080\">   nan</span> │ <span style=\"color: #008000; text-decoration-color: #008000\">      </span> │  │\n",
              "│ └───────────────────┴──────┴───────┴─────────┴───────────┴──────┴────────┴────────┴────────┴────────┴────────┘  │\n",
              "│ <span style=\"font-style: italic\">                                                    string                                                    </span>  │\n",
              "│ ┏━━━━━━━━━━━━━━━━━━━━━━━━━━━━━━━━━━━━┳━━━━━━━━━┳━━━━━━━━━━━┳━━━━━━━━━━━━━━━━━━━━━━━━━━┳━━━━━━━━━━━━━━━━━━━━━━┓  │\n",
              "│ ┃<span style=\"font-weight: bold\"> column_name                        </span>┃<span style=\"font-weight: bold\"> NA      </span>┃<span style=\"font-weight: bold\"> NA %      </span>┃<span style=\"font-weight: bold\"> words per row            </span>┃<span style=\"font-weight: bold\"> total words          </span>┃  │\n",
              "│ ┡━━━━━━━━━━━━━━━━━━━━━━━━━━━━━━━━━━━━╇━━━━━━━━━╇━━━━━━━━━━━╇━━━━━━━━━━━━━━━━━━━━━━━━━━╇━━━━━━━━━━━━━━━━━━━━━━┩  │\n",
              "│ │ <span style=\"color: #af87ff; text-decoration-color: #af87ff\">Time                              </span> │ <span style=\"color: #008080; text-decoration-color: #008080\">      0</span> │ <span style=\"color: #008080; text-decoration-color: #008080\">        0</span> │ <span style=\"color: #008080; text-decoration-color: #008080\">                       2</span> │ <span style=\"color: #008080; text-decoration-color: #008080\">                 400</span> │  │\n",
              "│ │ <span style=\"color: #af87ff; text-decoration-color: #af87ff\">Log comp                          </span> │ <span style=\"color: #008080; text-decoration-color: #008080\">      0</span> │ <span style=\"color: #008080; text-decoration-color: #008080\">        0</span> │ <span style=\"color: #008080; text-decoration-color: #008080\">                       2</span> │ <span style=\"color: #008080; text-decoration-color: #008080\">                 400</span> │  │\n",
              "│ │ <span style=\"color: #af87ff; text-decoration-color: #af87ff\">Log subtype                       </span> │ <span style=\"color: #008080; text-decoration-color: #008080\">      0</span> │ <span style=\"color: #008080; text-decoration-color: #008080\">        0</span> │ <span style=\"color: #008080; text-decoration-color: #008080\">                       1</span> │ <span style=\"color: #008080; text-decoration-color: #008080\">                 200</span> │  │\n",
              "│ │ <span style=\"color: #af87ff; text-decoration-color: #af87ff\">Firewall rule name                </span> │ <span style=\"color: #008080; text-decoration-color: #008080\">      2</span> │ <span style=\"color: #008080; text-decoration-color: #008080\">        1</span> │ <span style=\"color: #008080; text-decoration-color: #008080\">                    0.99</span> │ <span style=\"color: #008080; text-decoration-color: #008080\">                 198</span> │  │\n",
              "│ │ <span style=\"color: #af87ff; text-decoration-color: #af87ff\">NAT rule name                     </span> │ <span style=\"color: #008080; text-decoration-color: #008080\">      8</span> │ <span style=\"color: #008080; text-decoration-color: #008080\">        4</span> │ <span style=\"color: #008080; text-decoration-color: #008080\">                       3</span> │ <span style=\"color: #008080; text-decoration-color: #008080\">                 597</span> │  │\n",
              "│ │ <span style=\"color: #af87ff; text-decoration-color: #af87ff\">In interface                      </span> │ <span style=\"color: #008080; text-decoration-color: #008080\">      2</span> │ <span style=\"color: #008080; text-decoration-color: #008080\">        1</span> │ <span style=\"color: #008080; text-decoration-color: #008080\">                    0.99</span> │ <span style=\"color: #008080; text-decoration-color: #008080\">                 198</span> │  │\n",
              "│ │ <span style=\"color: #af87ff; text-decoration-color: #af87ff\">Out interface                     </span> │ <span style=\"color: #008080; text-decoration-color: #008080\">      4</span> │ <span style=\"color: #008080; text-decoration-color: #008080\">        2</span> │ <span style=\"color: #008080; text-decoration-color: #008080\">                    0.98</span> │ <span style=\"color: #008080; text-decoration-color: #008080\">                 196</span> │  │\n",
              "│ │ <span style=\"color: #af87ff; text-decoration-color: #af87ff\">Src IP                            </span> │ <span style=\"color: #008080; text-decoration-color: #008080\">      0</span> │ <span style=\"color: #008080; text-decoration-color: #008080\">        0</span> │ <span style=\"color: #008080; text-decoration-color: #008080\">                       1</span> │ <span style=\"color: #008080; text-decoration-color: #008080\">                 200</span> │  │\n",
              "│ │ <span style=\"color: #af87ff; text-decoration-color: #af87ff\">Dst IP                            </span> │ <span style=\"color: #008080; text-decoration-color: #008080\">      0</span> │ <span style=\"color: #008080; text-decoration-color: #008080\">        0</span> │ <span style=\"color: #008080; text-decoration-color: #008080\">                       1</span> │ <span style=\"color: #008080; text-decoration-color: #008080\">                 200</span> │  │\n",
              "│ │ <span style=\"color: #af87ff; text-decoration-color: #af87ff\">protocol                          </span> │ <span style=\"color: #008080; text-decoration-color: #008080\">      0</span> │ <span style=\"color: #008080; text-decoration-color: #008080\">        0</span> │ <span style=\"color: #008080; text-decoration-color: #008080\">                       1</span> │ <span style=\"color: #008080; text-decoration-color: #008080\">                 200</span> │  │\n",
              "│ │ <span style=\"color: #af87ff; text-decoration-color: #af87ff\">Live PCAP                         </span> │ <span style=\"color: #008080; text-decoration-color: #008080\">      0</span> │ <span style=\"color: #008080; text-decoration-color: #008080\">        0</span> │ <span style=\"color: #008080; text-decoration-color: #008080\">                       2</span> │ <span style=\"color: #008080; text-decoration-color: #008080\">                 400</span> │  │\n",
              "│ │ <span style=\"color: #af87ff; text-decoration-color: #af87ff\">Message                           </span> │ <span style=\"color: #008080; text-decoration-color: #008080\">    198</span> │ <span style=\"color: #008080; text-decoration-color: #008080\">       99</span> │ <span style=\"color: #008080; text-decoration-color: #008080\">                    0.06</span> │ <span style=\"color: #008080; text-decoration-color: #008080\">                  12</span> │  │\n",
              "│ └────────────────────────────────────┴─────────┴───────────┴──────────────────────────┴──────────────────────┘  │\n",
              "╰────────────────────────────────────────────────────── End ──────────────────────────────────────────────────────╯\n",
              "</pre>\n"
            ],
            "text/plain": [
              "╭──────────────────────────────────────────────── skimpy summary ─────────────────────────────────────────────────╮\n",
              "│ \u001b[3m         Data Summary         \u001b[0m \u001b[3m      Data Types       \u001b[0m                                                          │\n",
              "│ ┏━━━━━━━━━━━━━━━━━━━┳━━━━━━━━┓ ┏━━━━━━━━━━━━━┳━━━━━━━┓                                                          │\n",
              "│ ┃\u001b[1;36m \u001b[0m\u001b[1;36mdataframe        \u001b[0m\u001b[1;36m \u001b[0m┃\u001b[1;36m \u001b[0m\u001b[1;36mValues\u001b[0m\u001b[1;36m \u001b[0m┃ ┃\u001b[1;36m \u001b[0m\u001b[1;36mColumn Type\u001b[0m\u001b[1;36m \u001b[0m┃\u001b[1;36m \u001b[0m\u001b[1;36mCount\u001b[0m\u001b[1;36m \u001b[0m┃                                                          │\n",
              "│ ┡━━━━━━━━━━━━━━━━━━━╇━━━━━━━━┩ ┡━━━━━━━━━━━━━╇━━━━━━━┩                                                          │\n",
              "│ │ Number of rows    │ 200    │ │ string      │ 12    │                                                          │\n",
              "│ │ Number of columns │ 20     │ │ int32       │ 5     │                                                          │\n",
              "│ └───────────────────┴────────┘ │ float64     │ 3     │                                                          │\n",
              "│                                └─────────────┴───────┘                                                          │\n",
              "│ \u001b[3m                                                    number                                                    \u001b[0m  │\n",
              "│ ┏━━━━━━━━━━━━━━━━━━━┳━━━━━━┳━━━━━━━┳━━━━━━━━━┳━━━━━━━━━━━┳━━━━━━┳━━━━━━━━┳━━━━━━━━┳━━━━━━━━┳━━━━━━━━┳━━━━━━━━┓  │\n",
              "│ ┃\u001b[1m \u001b[0m\u001b[1mcolumn_name      \u001b[0m\u001b[1m \u001b[0m┃\u001b[1m \u001b[0m\u001b[1mNA  \u001b[0m\u001b[1m \u001b[0m┃\u001b[1m \u001b[0m\u001b[1mNA % \u001b[0m\u001b[1m \u001b[0m┃\u001b[1m \u001b[0m\u001b[1mmean   \u001b[0m\u001b[1m \u001b[0m┃\u001b[1m \u001b[0m\u001b[1msd       \u001b[0m\u001b[1m \u001b[0m┃\u001b[1m \u001b[0m\u001b[1mp0  \u001b[0m\u001b[1m \u001b[0m┃\u001b[1m \u001b[0m\u001b[1mp25   \u001b[0m\u001b[1m \u001b[0m┃\u001b[1m \u001b[0m\u001b[1mp50   \u001b[0m\u001b[1m \u001b[0m┃\u001b[1m \u001b[0m\u001b[1mp75   \u001b[0m\u001b[1m \u001b[0m┃\u001b[1m \u001b[0m\u001b[1mp100  \u001b[0m\u001b[1m \u001b[0m┃\u001b[1m \u001b[0m\u001b[1mhist  \u001b[0m\u001b[1m \u001b[0m┃  │\n",
              "│ ┡━━━━━━━━━━━━━━━━━━━╇━━━━━━╇━━━━━━━╇━━━━━━━━━╇━━━━━━━━━━━╇━━━━━━╇━━━━━━━━╇━━━━━━━━╇━━━━━━━━╇━━━━━━━━╇━━━━━━━━┩  │\n",
              "│ │ \u001b[38;5;141mUsername         \u001b[0m │ \u001b[36m 200\u001b[0m │ \u001b[36m  100\u001b[0m │ \u001b[36m    nan\u001b[0m │ \u001b[36m      nan\u001b[0m │ \u001b[36m nan\u001b[0m │ \u001b[36m   nan\u001b[0m │ \u001b[36m   nan\u001b[0m │ \u001b[36m   nan\u001b[0m │ \u001b[36m   nan\u001b[0m │ \u001b[32m      \u001b[0m │  │\n",
              "│ │ \u001b[38;5;141mFirewall rule    \u001b[0m │ \u001b[36m   2\u001b[0m │ \u001b[36m    1\u001b[0m │ \u001b[36m  24.97\u001b[0m │ \u001b[36m    22.61\u001b[0m │ \u001b[36m   2\u001b[0m │ \u001b[36m     2\u001b[0m │ \u001b[36m    20\u001b[0m │ \u001b[36m    48\u001b[0m │ \u001b[36m    55\u001b[0m │ \u001b[32m▇ ▁▁▁▆\u001b[0m │  │\n",
              "│ │ \u001b[38;5;141mNAT rule         \u001b[0m │ \u001b[36m   0\u001b[0m │ \u001b[36m    0\u001b[0m │ \u001b[36m  13.73\u001b[0m │ \u001b[36m    3.265\u001b[0m │ \u001b[36m   0\u001b[0m │ \u001b[36m    15\u001b[0m │ \u001b[36m    15\u001b[0m │ \u001b[36m    15\u001b[0m │ \u001b[36m    15\u001b[0m │ \u001b[32m    ▁▇\u001b[0m │  │\n",
              "│ │ \u001b[38;5;141mSrc port         \u001b[0m │ \u001b[36m   0\u001b[0m │ \u001b[36m    0\u001b[0m │ \u001b[36m  51730\u001b[0m │ \u001b[36m    11450\u001b[0m │ \u001b[36m   0\u001b[0m │ \u001b[36m 52460\u001b[0m │ \u001b[36m 54160\u001b[0m │ \u001b[36m 54610\u001b[0m │ \u001b[36m 65380\u001b[0m │ \u001b[32m▁  ▁▇▇\u001b[0m │  │\n",
              "│ │ \u001b[38;5;141mDst port         \u001b[0m │ \u001b[36m   0\u001b[0m │ \u001b[36m    0\u001b[0m │ \u001b[36m  250.5\u001b[0m │ \u001b[36m    306.7\u001b[0m │ \u001b[36m   0\u001b[0m │ \u001b[36m    53\u001b[0m │ \u001b[36m    80\u001b[0m │ \u001b[36m   443\u001b[0m │ \u001b[36m  3544\u001b[0m │ \u001b[32m  ▇   \u001b[0m │  │\n",
              "│ │ \u001b[38;5;141mRule type        \u001b[0m │ \u001b[36m   0\u001b[0m │ \u001b[36m    0\u001b[0m │ \u001b[36m   0.99\u001b[0m │ \u001b[36m  0.09975\u001b[0m │ \u001b[36m   0\u001b[0m │ \u001b[36m     1\u001b[0m │ \u001b[36m     1\u001b[0m │ \u001b[36m     1\u001b[0m │ \u001b[36m     1\u001b[0m │ \u001b[32m     ▇\u001b[0m │  │\n",
              "│ │ \u001b[38;5;141mLog occurrence   \u001b[0m │ \u001b[36m   0\u001b[0m │ \u001b[36m    0\u001b[0m │ \u001b[36m      1\u001b[0m │ \u001b[36m        0\u001b[0m │ \u001b[36m   1\u001b[0m │ \u001b[36m     1\u001b[0m │ \u001b[36m     1\u001b[0m │ \u001b[36m     1\u001b[0m │ \u001b[36m     1\u001b[0m │ \u001b[32m    ▇ \u001b[0m │  │\n",
              "│ │ \u001b[38;5;141mUnnamed: 19      \u001b[0m │ \u001b[36m 200\u001b[0m │ \u001b[36m  100\u001b[0m │ \u001b[36m    nan\u001b[0m │ \u001b[36m      nan\u001b[0m │ \u001b[36m nan\u001b[0m │ \u001b[36m   nan\u001b[0m │ \u001b[36m   nan\u001b[0m │ \u001b[36m   nan\u001b[0m │ \u001b[36m   nan\u001b[0m │ \u001b[32m      \u001b[0m │  │\n",
              "│ └───────────────────┴──────┴───────┴─────────┴───────────┴──────┴────────┴────────┴────────┴────────┴────────┘  │\n",
              "│ \u001b[3m                                                    string                                                    \u001b[0m  │\n",
              "│ ┏━━━━━━━━━━━━━━━━━━━━━━━━━━━━━━━━━━━━┳━━━━━━━━━┳━━━━━━━━━━━┳━━━━━━━━━━━━━━━━━━━━━━━━━━┳━━━━━━━━━━━━━━━━━━━━━━┓  │\n",
              "│ ┃\u001b[1m \u001b[0m\u001b[1mcolumn_name                       \u001b[0m\u001b[1m \u001b[0m┃\u001b[1m \u001b[0m\u001b[1mNA     \u001b[0m\u001b[1m \u001b[0m┃\u001b[1m \u001b[0m\u001b[1mNA %     \u001b[0m\u001b[1m \u001b[0m┃\u001b[1m \u001b[0m\u001b[1mwords per row           \u001b[0m\u001b[1m \u001b[0m┃\u001b[1m \u001b[0m\u001b[1mtotal words         \u001b[0m\u001b[1m \u001b[0m┃  │\n",
              "│ ┡━━━━━━━━━━━━━━━━━━━━━━━━━━━━━━━━━━━━╇━━━━━━━━━╇━━━━━━━━━━━╇━━━━━━━━━━━━━━━━━━━━━━━━━━╇━━━━━━━━━━━━━━━━━━━━━━┩  │\n",
              "│ │ \u001b[38;5;141mTime                              \u001b[0m │ \u001b[36m      0\u001b[0m │ \u001b[36m        0\u001b[0m │ \u001b[36m                       2\u001b[0m │ \u001b[36m                 400\u001b[0m │  │\n",
              "│ │ \u001b[38;5;141mLog comp                          \u001b[0m │ \u001b[36m      0\u001b[0m │ \u001b[36m        0\u001b[0m │ \u001b[36m                       2\u001b[0m │ \u001b[36m                 400\u001b[0m │  │\n",
              "│ │ \u001b[38;5;141mLog subtype                       \u001b[0m │ \u001b[36m      0\u001b[0m │ \u001b[36m        0\u001b[0m │ \u001b[36m                       1\u001b[0m │ \u001b[36m                 200\u001b[0m │  │\n",
              "│ │ \u001b[38;5;141mFirewall rule name                \u001b[0m │ \u001b[36m      2\u001b[0m │ \u001b[36m        1\u001b[0m │ \u001b[36m                    0.99\u001b[0m │ \u001b[36m                 198\u001b[0m │  │\n",
              "│ │ \u001b[38;5;141mNAT rule name                     \u001b[0m │ \u001b[36m      8\u001b[0m │ \u001b[36m        4\u001b[0m │ \u001b[36m                       3\u001b[0m │ \u001b[36m                 597\u001b[0m │  │\n",
              "│ │ \u001b[38;5;141mIn interface                      \u001b[0m │ \u001b[36m      2\u001b[0m │ \u001b[36m        1\u001b[0m │ \u001b[36m                    0.99\u001b[0m │ \u001b[36m                 198\u001b[0m │  │\n",
              "│ │ \u001b[38;5;141mOut interface                     \u001b[0m │ \u001b[36m      4\u001b[0m │ \u001b[36m        2\u001b[0m │ \u001b[36m                    0.98\u001b[0m │ \u001b[36m                 196\u001b[0m │  │\n",
              "│ │ \u001b[38;5;141mSrc IP                            \u001b[0m │ \u001b[36m      0\u001b[0m │ \u001b[36m        0\u001b[0m │ \u001b[36m                       1\u001b[0m │ \u001b[36m                 200\u001b[0m │  │\n",
              "│ │ \u001b[38;5;141mDst IP                            \u001b[0m │ \u001b[36m      0\u001b[0m │ \u001b[36m        0\u001b[0m │ \u001b[36m                       1\u001b[0m │ \u001b[36m                 200\u001b[0m │  │\n",
              "│ │ \u001b[38;5;141mprotocol                          \u001b[0m │ \u001b[36m      0\u001b[0m │ \u001b[36m        0\u001b[0m │ \u001b[36m                       1\u001b[0m │ \u001b[36m                 200\u001b[0m │  │\n",
              "│ │ \u001b[38;5;141mLive PCAP                         \u001b[0m │ \u001b[36m      0\u001b[0m │ \u001b[36m        0\u001b[0m │ \u001b[36m                       2\u001b[0m │ \u001b[36m                 400\u001b[0m │  │\n",
              "│ │ \u001b[38;5;141mMessage                           \u001b[0m │ \u001b[36m    198\u001b[0m │ \u001b[36m       99\u001b[0m │ \u001b[36m                    0.06\u001b[0m │ \u001b[36m                  12\u001b[0m │  │\n",
              "│ └────────────────────────────────────┴─────────┴───────────┴──────────────────────────┴──────────────────────┘  │\n",
              "╰────────────────────────────────────────────────────── End ──────────────────────────────────────────────────────╯\n"
            ]
          },
          "metadata": {},
          "output_type": "display_data"
        }
      ],
      "source": [
        "skim(df)"
      ]
    }
  ],
  "metadata": {
    "colab": {
      "provenance": []
    },
    "kernelspec": {
      "display_name": "Python 3",
      "name": "python3"
    },
    "language_info": {
      "codemirror_mode": {
        "name": "ipython",
        "version": 3
      },
      "file_extension": ".py",
      "mimetype": "text/x-python",
      "name": "python",
      "nbconvert_exporter": "python",
      "pygments_lexer": "ipython3",
      "version": "3.11.0"
    }
  },
  "nbformat": 4,
  "nbformat_minor": 0
}
