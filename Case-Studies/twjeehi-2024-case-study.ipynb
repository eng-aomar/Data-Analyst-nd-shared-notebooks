{
  "cells": [
    {
      "cell_type": "code",
      "execution_count": 1,
      "metadata": {
        "id": "bGAAKSawgO1H"
      },
      "outputs": [
        {
          "name": "stderr",
          "output_type": "stream",
          "text": [
            "c:\\Users\\SS\\AppData\\Local\\Programs\\Python\\Python311\\Lib\\site-packages\\scipy\\__init__.py:169: UserWarning: A NumPy version >=1.18.5 and <1.26.0 is required for this version of SciPy (detected version 1.26.4\n",
            "  warnings.warn(f\"A NumPy version >={np_minversion} and <{np_maxversion}\"\n"
          ]
        }
      ],
      "source": [
        "import pandas as pd\n",
        "import matplotlib.pyplot as plt\n",
        "import seaborn as sns"
      ]
    },
    {
      "cell_type": "code",
      "execution_count": 2,
      "metadata": {
        "id": "em8VimnYruyK"
      },
      "outputs": [],
      "source": [
        "df = pd.read_excel('../Data/tawjehe2024.xls')"
      ]
    },
    {
      "cell_type": "code",
      "execution_count": 3,
      "metadata": {
        "colab": {
          "base_uri": "https://localhost:8080/",
          "height": 423
        },
        "id": "zhTcW4Dfr01p",
        "outputId": "c295e5e5-d214-46f7-b84b-a8e4ee906552"
      },
      "outputs": [
        {
          "data": {
            "text/html": [
              "<div>\n",
              "<style scoped>\n",
              "    .dataframe tbody tr th:only-of-type {\n",
              "        vertical-align: middle;\n",
              "    }\n",
              "\n",
              "    .dataframe tbody tr th {\n",
              "        vertical-align: top;\n",
              "    }\n",
              "\n",
              "    .dataframe thead th {\n",
              "        text-align: right;\n",
              "    }\n",
              "</style>\n",
              "<table border=\"1\" class=\"dataframe\">\n",
              "  <thead>\n",
              "    <tr style=\"text-align: right;\">\n",
              "      <th></th>\n",
              "      <th>رقم الجلوس</th>\n",
              "      <th>الفرع</th>\n",
              "      <th>المديرية</th>\n",
              "      <th>المدرسة</th>\n",
              "      <th>النتيجه</th>\n",
              "    </tr>\n",
              "  </thead>\n",
              "  <tbody>\n",
              "    <tr>\n",
              "      <th>0</th>\n",
              "      <td>10047300</td>\n",
              "      <td>العلمي</td>\n",
              "      <td>جنين</td>\n",
              "      <td>بنات جنين الثانوية</td>\n",
              "      <td>87.6</td>\n",
              "    </tr>\n",
              "    <tr>\n",
              "      <th>1</th>\n",
              "      <td>10047405</td>\n",
              "      <td>العلمي</td>\n",
              "      <td>جنين</td>\n",
              "      <td>بنات جنين الثانوية</td>\n",
              "      <td>65.3</td>\n",
              "    </tr>\n",
              "    <tr>\n",
              "      <th>2</th>\n",
              "      <td>10047342</td>\n",
              "      <td>العلمي</td>\n",
              "      <td>جنين</td>\n",
              "      <td>بنات جنين الثانوية</td>\n",
              "      <td>لم يستكمل متطلبات النجاح</td>\n",
              "    </tr>\n",
              "    <tr>\n",
              "      <th>3</th>\n",
              "      <td>10047399</td>\n",
              "      <td>العلمي</td>\n",
              "      <td>جنين</td>\n",
              "      <td>بنات جنين الثانوية</td>\n",
              "      <td>71.3</td>\n",
              "    </tr>\n",
              "    <tr>\n",
              "      <th>4</th>\n",
              "      <td>10047272</td>\n",
              "      <td>العلمي</td>\n",
              "      <td>جنين</td>\n",
              "      <td>بنات جنين الثانوية</td>\n",
              "      <td>93.6</td>\n",
              "    </tr>\n",
              "    <tr>\n",
              "      <th>...</th>\n",
              "      <td>...</td>\n",
              "      <td>...</td>\n",
              "      <td>...</td>\n",
              "      <td>...</td>\n",
              "      <td>...</td>\n",
              "    </tr>\n",
              "    <tr>\n",
              "      <th>49046</th>\n",
              "      <td>33098728</td>\n",
              "      <td>العلمي</td>\n",
              "      <td>الادارة العامة للامتحانات</td>\n",
              "      <td>الفنار/ تركيا</td>\n",
              "      <td>غير مستكمل</td>\n",
              "    </tr>\n",
              "    <tr>\n",
              "      <th>49047</th>\n",
              "      <td>33098128</td>\n",
              "      <td>العلمي</td>\n",
              "      <td>الادارة العامة للامتحانات</td>\n",
              "      <td>الفنار/ تركيا</td>\n",
              "      <td>80.1</td>\n",
              "    </tr>\n",
              "    <tr>\n",
              "      <th>49048</th>\n",
              "      <td>33098733</td>\n",
              "      <td>العلمي</td>\n",
              "      <td>الادارة العامة للامتحانات</td>\n",
              "      <td>القدس/ تركيا</td>\n",
              "      <td>79.1</td>\n",
              "    </tr>\n",
              "    <tr>\n",
              "      <th>49049</th>\n",
              "      <td>33098732</td>\n",
              "      <td>العلمي</td>\n",
              "      <td>الادارة العامة للامتحانات</td>\n",
              "      <td>القدس/ تركيا</td>\n",
              "      <td>83.4</td>\n",
              "    </tr>\n",
              "    <tr>\n",
              "      <th>49050</th>\n",
              "      <td>33101657</td>\n",
              "      <td>العلمي</td>\n",
              "      <td>الادارة العامة للامتحانات</td>\n",
              "      <td>دراسة خاصة</td>\n",
              "      <td>غير مستكمل</td>\n",
              "    </tr>\n",
              "  </tbody>\n",
              "</table>\n",
              "<p>49051 rows × 5 columns</p>\n",
              "</div>"
            ],
            "text/plain": [
              "       رقم الجلوس   الفرع                   المديرية             المدرسة  \\\n",
              "0        10047300  العلمي                       جنين  بنات جنين الثانوية   \n",
              "1        10047405  العلمي                       جنين  بنات جنين الثانوية   \n",
              "2        10047342  العلمي                       جنين  بنات جنين الثانوية   \n",
              "3        10047399  العلمي                       جنين  بنات جنين الثانوية   \n",
              "4        10047272  العلمي                       جنين  بنات جنين الثانوية   \n",
              "...           ...     ...                        ...                 ...   \n",
              "49046    33098728  العلمي  الادارة العامة للامتحانات       الفنار/ تركيا   \n",
              "49047    33098128  العلمي  الادارة العامة للامتحانات       الفنار/ تركيا   \n",
              "49048    33098733  العلمي  الادارة العامة للامتحانات        القدس/ تركيا   \n",
              "49049    33098732  العلمي  الادارة العامة للامتحانات        القدس/ تركيا   \n",
              "49050    33101657  العلمي  الادارة العامة للامتحانات          دراسة خاصة   \n",
              "\n",
              "                        النتيجه  \n",
              "0                          87.6  \n",
              "1                          65.3  \n",
              "2      لم يستكمل متطلبات النجاح  \n",
              "3                          71.3  \n",
              "4                          93.6  \n",
              "...                         ...  \n",
              "49046                غير مستكمل  \n",
              "49047                      80.1  \n",
              "49048                      79.1  \n",
              "49049                      83.4  \n",
              "49050                غير مستكمل  \n",
              "\n",
              "[49051 rows x 5 columns]"
            ]
          },
          "execution_count": 3,
          "metadata": {},
          "output_type": "execute_result"
        }
      ],
      "source": [
        "df"
      ]
    },
    {
      "cell_type": "markdown",
      "metadata": {
        "id": "QsPJ8Uzhr4MK"
      },
      "source": [
        "## Get the top 10 students for each branch?"
      ]
    },
    {
      "cell_type": "markdown",
      "metadata": {
        "id": "d6lGyukxspcV"
      },
      "source": [
        "Clean the result by adding a cutogroy to denote the status result i.e. if the it is not numeric then give it a category"
      ]
    },
    {
      "cell_type": "markdown",
      "metadata": {
        "id": "8fAZ2JLNsi4F"
      },
      "source": [
        "Get the top 10 students per governarate?\n"
      ]
    },
    {
      "cell_type": "code",
      "execution_count": null,
      "metadata": {
        "id": "abiBhyVosg7F"
      },
      "outputs": [],
      "source": []
    }
  ],
  "metadata": {
    "colab": {
      "provenance": []
    },
    "kernelspec": {
      "display_name": "Python 3",
      "name": "python3"
    },
    "language_info": {
      "codemirror_mode": {
        "name": "ipython",
        "version": 3
      },
      "file_extension": ".py",
      "mimetype": "text/x-python",
      "name": "python",
      "nbconvert_exporter": "python",
      "pygments_lexer": "ipython3",
      "version": "3.11.0"
    }
  },
  "nbformat": 4,
  "nbformat_minor": 0
}
