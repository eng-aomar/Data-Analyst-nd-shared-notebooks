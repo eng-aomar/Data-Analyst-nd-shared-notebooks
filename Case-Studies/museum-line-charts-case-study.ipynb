{
  "metadata": {
    "kernelspec": {
      "display_name": "Python 3",
      "language": "python",
      "name": "python3"
    },
    "language_info": {
      "codemirror_mode": {
        "name": "ipython",
        "version": 3
      },
      "file_extension": ".py",
      "mimetype": "text/x-python",
      "name": "python",
      "nbconvert_exporter": "python",
      "pygments_lexer": "ipython3",
      "version": "3.6.5"
    },
    "kaggle": {
      "accelerator": "none",
      "dataSources": [
        {
          "sourceId": 3551030,
          "sourceType": "datasetVersion",
          "datasetId": 116573
        }
      ],
      "isInternetEnabled": false,
      "language": "python",
      "sourceType": "notebook",
      "isGpuEnabled": false
    },
    "colab": {
      "provenance": [],
      "toc_visible": true
    }
  },
  "nbformat_minor": 0,
  "nbformat": 4,
  "cells": [
    {
      "cell_type": "markdown",
      "source": [
        ">>[Scenario](#scrollTo=I2AkTlSg35v_)\n",
        "\n",
        ">>[Setup](#scrollTo=I2AkTlSg35v_)\n",
        "\n",
        ">>[Step 1: Load the data](#scrollTo=BgWCG2ex35wB)\n",
        "\n",
        ">>[Step 2: Review the data](#scrollTo=0AFV-F3435wC)\n",
        "\n",
        ">>[Step 3: Convince the museum board](#scrollTo=3aKcK4jH35wD)\n",
        "\n",
        ">>[Step 4: Assess seasonality](#scrollTo=QQBayGzH35wD)\n",
        "\n",
        ">>>>[Part A](#scrollTo=QQBayGzH35wD)\n",
        "\n",
        ">>>>[Part B](#scrollTo=csjsGIMQ35wD)\n",
        "\n"
      ],
      "metadata": {
        "colab_type": "toc",
        "id": "hZsgWt73EfFa"
      }
    },
    {
      "cell_type": "markdown",
      "source": [
        "In this exercise, you will use your new knowledge to propose a solution to a real-world scenario. To succeed, you will need to import data into Python, answer questions using the data, and generate **line charts** to understand patterns in the data.\n",
        "\n",
        "## Scenario\n",
        "\n",
        "You have recently been hired to manage the museums in the City of Los Angeles. Your first project focuses on the four museums pictured in the images below.\n",
        "\n",
        "![ex1_museums](https://storage.googleapis.com/kaggle-media/learn/images/pFYL8J1.png)\n",
        "\n",
        "You will leverage data from the Los Angeles [Data Portal](https://data.lacity.org/) that tracks monthly visitors to each museum.  \n",
        "\n",
        "![ex1_xlsx](https://storage.googleapis.com/kaggle-media/learn/images/mGWYlym.png)\n",
        "\n",
        "## Setup\n",
        "\n",
        "Run the next cell to import and configure the Python libraries that you need to complete the exercise."
      ],
      "metadata": {
        "id": "I2AkTlSg35v_"
      }
    },
    {
      "cell_type": "code",
      "source": [
        "import pandas as pd\n",
        "pd.plotting.register_matplotlib_converters()\n",
        "import matplotlib.pyplot as plt\n",
        "%matplotlib inline\n",
        "import seaborn as sns\n",
        "print(\"Setup Complete\")"
      ],
      "metadata": {
        "colab": {
          "base_uri": "https://localhost:8080/"
        },
        "id": "qKK65apg35wA",
        "outputId": "234e2741-5cff-4ac5-af90-2be14a05ba6c"
      },
      "execution_count": null,
      "outputs": [
        {
          "output_type": "stream",
          "name": "stdout",
          "text": [
            "Setup Complete\n"
          ]
        }
      ]
    },
    {
      "cell_type": "markdown",
      "source": [
        "The questions below will give you feedback on your work. Run the following cell to set up the feedback system."
      ],
      "metadata": {
        "id": "x9u-Ljl-35wB"
      }
    },
    {
      "cell_type": "markdown",
      "source": [
        "## Step 1: Load the data\n",
        "\n",
        "Your first assignment is to read the LA Museum Visitors data file into `museum_data`.  Note that:\n",
        "- The filepath to the dataset is stored as `museum_filepath`.  Please **do not** change the provided value of the filepath.\n",
        "- The name of the column to use as row labels is `\"Date\"`.  (This can be seen in cell A1 when the file is opened in Excel.)\n",
        "\n",
        "To help with this, you may find it useful to revisit some relevant code from the tutorial, which we have pasted below:\n",
        "\n",
        "```python\n",
        "# Path of the file to read\n",
        "spotify_filepath = \"../input/spotify.csv\"\n",
        "\n",
        "# Read the file into a variable spotify_data\n",
        "spotify_data = pd.read_csv(spotify_filepath, index_col=\"Date\", parse_dates=True)\n",
        "```\n",
        "\n",
        "The code you need to write now looks very similar!"
      ],
      "metadata": {
        "id": "BgWCG2ex35wB"
      }
    },
    {
      "cell_type": "code",
      "source": [
        "# Path of the file to read\n",
        "museum_filepath = \"museum_visitors.csv\"\n",
        "\n",
        "# Fill in the line below to read the file into a variable museum_data and make date the defualt index\n",
        "# hint use read_csv index_col varaible\n",
        "museum_data =\n"
      ],
      "metadata": {
        "id": "UdY8t7DC35wB"
      },
      "execution_count": null,
      "outputs": []
    },
    {
      "cell_type": "markdown",
      "source": [
        "## Step 2: Review the data\n",
        "\n",
        "Use a Python command to print the last 5 rows of the data."
      ],
      "metadata": {
        "id": "0AFV-F3435wC"
      }
    },
    {
      "cell_type": "code",
      "source": [
        "# Print the last five rows of the data\n",
        "____ # Your code here"
      ],
      "metadata": {
        "id": "Tl_6w8R635wC"
      },
      "execution_count": null,
      "outputs": []
    },
    {
      "cell_type": "markdown",
      "source": [
        "The last row (for `2018-11-01`) tracks the number of visitors to each museum in November 2018, the next-to-last row (for `2018-10-01`) tracks the number of visitors to each museum in October 2018, _and so on_.\n",
        "\n",
        "Use the last 5 rows of the data to answer the questions below."
      ],
      "metadata": {
        "id": "Un9kdyNi35wC"
      }
    },
    {
      "cell_type": "code",
      "source": [
        "# Fill in the line below: How many visitors did the Chinese American Museum\n",
        "# receive in July 2018?\n",
        "ca_museum_jul18 = ____\n",
        "\n",
        "# Fill in the line below: In October 2018, how many more visitors did Avila\n",
        "# Adobe receive than the Firehouse Museum?\n",
        "avila_oct18 = ____\n"
      ],
      "metadata": {
        "id": "qXcmRJ6s35wC"
      },
      "execution_count": null,
      "outputs": []
    },
    {
      "cell_type": "markdown",
      "source": [
        "## Step 3: Convince the museum board\n",
        "\n",
        "The Firehouse Museum claims they ran an event in 2014 that brought an incredible number of visitors, and that they should get extra budget to run a similar event again.  The other museums think these types of events aren't that important, and budgets should be split purely based on recent visitors on an average day.  \n",
        "\n",
        "To show the museum board how the event compared to regular traffic at each museum, create a line chart that shows how the number of visitors to each museum evolved over time.  Your figure should have four lines (one for each museum).\n"
      ],
      "metadata": {
        "id": "3aKcK4jH35wD"
      }
    },
    {
      "cell_type": "code",
      "source": [
        "# Line chart showing the number of visitors to each museum over time\n",
        "____ # Your code here\n"
      ],
      "metadata": {
        "id": "m7Hp9d0B35wD"
      },
      "execution_count": null,
      "outputs": []
    },
    {
      "cell_type": "markdown",
      "source": [
        "## Step 4: Assess seasonality\n",
        "\n",
        "When meeting with the employees at Avila Adobe, you hear that one major pain point is that the number of museum visitors varies greatly with the seasons, with low seasons (when the employees are perfectly staffed and happy) and also high seasons (when the employees are understaffed and stressed).  You realize that if you can predict these high and low seasons, you can plan ahead to hire some additional seasonal employees to help out with the extra work.\n",
        "\n",
        "#### Part A\n",
        "Create a line chart that shows how the number of visitors to Avila Adobe has evolved over time.  (_If your code returns an error, the first thing that you should check is that you've spelled the name of the column correctly!  You must write the name of the column exactly as it appears in the dataset._)"
      ],
      "metadata": {
        "id": "QQBayGzH35wD"
      }
    },
    {
      "cell_type": "code",
      "source": [
        "# Line plot showing the number of visitors to Avila Adobe over time\n",
        "____ # Your code here\n",
        "\n",
        "# Check your answer\n",
        "step_4.a.check()"
      ],
      "metadata": {
        "id": "rq-8Dbrs35wD"
      },
      "execution_count": null,
      "outputs": []
    },
    {
      "cell_type": "code",
      "source": [
        "# Lines below will give you a hint or solution code\n",
        "#step_4.a.hint()\n",
        "#step_4.a.solution_plot()"
      ],
      "metadata": {
        "id": "vONCvDqT35wD"
      },
      "execution_count": null,
      "outputs": []
    },
    {
      "cell_type": "markdown",
      "source": [
        "#### Part B\n",
        "\n",
        "Does Avila Adobe get more visitors:\n",
        "- in September-February (in LA, the fall and winter months), or\n",
        "- in March-August (in LA, the spring and summer)?  \n",
        "\n",
        "Using this information, when should the museum staff additional seasonal employees?"
      ],
      "metadata": {
        "id": "csjsGIMQ35wD"
      }
    }
  ]
}