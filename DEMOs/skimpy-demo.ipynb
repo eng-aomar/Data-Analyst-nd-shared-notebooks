{
  "nbformat": 4,
  "nbformat_minor": 0,
  "metadata": {
    "colab": {
      "name": "skimpy_demo.ipynb",
      "provenance": []
    },
    "kernelspec": {
      "name": "python3",
      "display_name": "Python 3"
    },
    "language_info": {
      "name": "python"
    }
  },
  "cells": [
    {
      "cell_type": "markdown",
      "metadata": {
        "id": "n_Z9KSsRkQ3Y"
      },
      "source": [
        "# Demo of the *skimpy* Python package\n",
        "\n",
        "This notebook is a quick demo of how to use skimpy in practice. First, let's make sure it's installed in this google colab notebook."
      ]
    },
    {
      "cell_type": "code",
      "metadata": {
        "id": "fKbRsPVxkMNg"
      },
      "source": [
        "!pip install skimpy pandas"
      ],
      "execution_count": null,
      "outputs": []
    },
    {
      "cell_type": "markdown",
      "metadata": {
        "id": "sJNHJLkRkgrg"
      },
      "source": [
        "If this is the first time you've run this notebook, you may need to now refresh the runtime. Click runtime then 'restart runtime' from the menu options at the top of the page.\n",
        "\n",
        "Now we can import and use the package. Let's grab the example data, including in the package, and the function that is going to summarise the data, *skim*.\n",
        "\n",
        "Here's the dataframe and imports"
      ]
    },
    {
      "cell_type": "code",
      "metadata": {
        "id": "0FFhglKLkeAa"
      },
      "source": [
        "from skimpy import skim, generate_test_data\n",
        "\n",
        "df = generate_test_data()\n",
        "\n",
        "df.head()"
      ],
      "execution_count": null,
      "outputs": []
    },
    {
      "cell_type": "markdown",
      "metadata": {
        "id": "Xz9R4yO4kzFO"
      },
      "source": [
        "It's also worth noting that this data has datatypes set in advance, and you'll get more informative skims from dataframes that have the datatypes set first. Here are the datatypes in this dataframe:"
      ]
    },
    {
      "cell_type": "code",
      "metadata": {
        "id": "Yyzk4S9bk7kd"
      },
      "source": [
        "df.info()"
      ],
      "execution_count": null,
      "outputs": []
    },
    {
      "cell_type": "markdown",
      "metadata": {
        "id": "Hgs3OlPUlBtr"
      },
      "source": [
        "## Running skimpy\n",
        "\n",
        "Okay, we're ready to run *skim* on our dataframe!\n"
      ]
    },
    {
      "cell_type": "code",
      "metadata": {
        "id": "OR8kFCCYlHhj"
      },
      "source": [
        "skim(df)"
      ],
      "execution_count": null,
      "outputs": []
    },
    {
      "cell_type": "markdown",
      "metadata": {
        "id": "WSZ64qlFBYem"
      },
      "source": [
        "## Options\n",
        "\n",
        "There are some limited options for customisation."
      ]
    },
    {
      "cell_type": "markdown",
      "metadata": {
        "id": "gAZG_8dJB-Jy"
      },
      "source": [
        "You can change the header styles of the first three tables (you can find more info on styles in the documentation of the [**rich** package](https://rich.readthedocs.io/en/stable/index.html), which **skimpy** builds on):"
      ]
    },
    {
      "cell_type": "code",
      "metadata": {
        "id": "S_pVtGH7B9US"
      },
      "source": [
        "skim(df, header_style=\"italic green\")"
      ],
      "execution_count": null,
      "outputs": []
    },
    {
      "cell_type": "markdown",
      "source": [
        "## Cleaning Column Names\n",
        "\n",
        "**skimpy** also comes with a function to clean up column names. Here's an example of some messy column names:"
      ],
      "metadata": {
        "id": "8uEqZZN90MzK"
      }
    },
    {
      "cell_type": "code",
      "source": [
        "import pandas as pd\n",
        "from rich import print\n",
        "from skimpy import clean_columns\n",
        "\n",
        "columns = [\n",
        "    \"bs lncs;n edbn \",\n",
        "    \"Nín hǎo. Wǒ shì zhōng guó rén\",\n",
        "    \"___This is a test___\",\n",
        "    \"ÜBER Über German Umlaut\",\n",
        "]\n",
        "messy_df = pd.DataFrame(columns=columns, index=[0], data=[range(len(columns))])\n",
        "print(\"Column names:\")\n",
        "print(list(messy_df.columns))"
      ],
      "metadata": {
        "id": "QsuqoYUw0ONX"
      },
      "execution_count": null,
      "outputs": []
    },
    {
      "cell_type": "markdown",
      "source": [
        "Now we'll clean them up:"
      ],
      "metadata": {
        "id": "1r1_XdSJ0YVF"
      }
    },
    {
      "cell_type": "code",
      "source": [
        "clean_df = clean_columns(messy_df)\n",
        "print(list(clean_df.columns))"
      ],
      "metadata": {
        "id": "b3vnc_a80bNb"
      },
      "execution_count": null,
      "outputs": []
    }
  ]
}