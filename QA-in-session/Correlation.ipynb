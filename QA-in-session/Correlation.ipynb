{
  "cells": [
    {
      "cell_type": "markdown",
      "metadata": {
        "id": "thGXrxGuArsA"
      },
      "source": [
        "# Example: Calculating Correlation with NumPy"
      ]
    },
    {
      "cell_type": "markdown",
      "metadata": {
        "id": "GG4Hryw2A0GG"
      },
      "source": [
        "## Import NumPy:\n",
        "\n"
      ]
    },
    {
      "cell_type": "code",
      "execution_count": 1,
      "metadata": {
        "id": "bFMMoP6BAlo7"
      },
      "outputs": [],
      "source": [
        "import numpy as np"
      ]
    },
    {
      "cell_type": "markdown",
      "metadata": {
        "id": "kqHNUTzZA2Lc"
      },
      "source": [
        "## Define the Datasets:\n",
        "\n"
      ]
    },
    {
      "cell_type": "code",
      "execution_count": 2,
      "metadata": {
        "id": "mIUI6F8WAu4G"
      },
      "outputs": [],
      "source": [
        "hours_studied = np.array([1, 2, 3, 4, 5])\n",
        "test_scores = np.array([50, 55, 65, 70, 80])"
      ]
    },
    {
      "cell_type": "markdown",
      "metadata": {
        "id": "ScewcOGjA7FY"
      },
      "source": [
        "# Calculate the Correlation Coefficient:\n",
        "\n"
      ]
    },
    {
      "cell_type": "code",
      "execution_count": 3,
      "metadata": {
        "id": "uDFJwDh-AxmG"
      },
      "outputs": [],
      "source": [
        "correlation_coefficient = np.corrcoef(hours_studied, test_scores)[0, 1]"
      ]
    },
    {
      "cell_type": "markdown",
      "metadata": {
        "id": "W8fYU0jmBBz7"
      },
      "source": [
        "Here’s how `np.corrcoef` works:\n",
        "\n",
        "-   It computes the Pearson correlation coefficient matrix of the input arrays.\n",
        "-   `[0, 1]` selects the correlation coefficient between `hours_studied` and `test_scores`."
      ]
    },
    {
      "cell_type": "markdown",
      "metadata": {
        "id": "pu2E3HzZBGl0"
      },
      "source": [
        "## Print the Result:\n",
        "\n"
      ]
    },
    {
      "cell_type": "code",
      "execution_count": 4,
      "metadata": {
        "colab": {
          "base_uri": "https://localhost:8080/"
        },
        "id": "VIGH_xlPBECC",
        "outputId": "9922e5be-e1fe-4983-f4bd-49abe9e1d357"
      },
      "outputs": [
        {
          "name": "stdout",
          "output_type": "stream",
          "text": [
            "Correlation Coefficient: 0.99\n"
          ]
        }
      ],
      "source": [
        "print(f\"Correlation Coefficient: {correlation_coefficient:.2f}\")\n"
      ]
    },
    {
      "cell_type": "markdown",
      "metadata": {
        "id": "eS9CKJ6YBRn-"
      },
      "source": [
        "#### **Explanation**\n",
        "\n",
        "-   The correlation coefficient ranges from -1 to 1.\n",
        "    \n",
        "    -   **1** indicates a perfect positive correlation.\n",
        "    -   **-1** indicates a perfect negative correlation.\n",
        "    -   **0** indicates no correlation.\n",
        "-   In our example, a correlation coefficient of 0.97 suggests a very strong positive relationship between hours studied and test scores."
      ]
    },
    {
      "cell_type": "markdown",
      "metadata": {
        "id": "t4FzeHP6BeyR"
      },
      "source": [
        "# Example: Calculating Correlation with SciPy\n"
      ]
    },
    {
      "cell_type": "markdown",
      "metadata": {
        "id": "hAF5_ZjQBiqJ"
      },
      "source": [
        "\n",
        "Let’s use the same datasets as before: the number of hours studied and the corresponding test scores.\n",
        "\n",
        "#### **Step-by-Step Calculation**\n",
        "\n",
        "1. Use the same arrays"
      ]
    },
    {
      "cell_type": "code",
      "execution_count": 5,
      "metadata": {
        "id": "TGonekQ9B2_E"
      },
      "outputs": [
        {
          "name": "stderr",
          "output_type": "stream",
          "text": [
            "c:\\Users\\SS\\AppData\\Local\\Programs\\Python\\Python311\\Lib\\site-packages\\scipy\\__init__.py:169: UserWarning: A NumPy version >=1.18.5 and <1.26.0 is required for this version of SciPy (detected version 1.26.4\n",
            "  warnings.warn(f\"A NumPy version >={np_minversion} and <{np_maxversion}\"\n"
          ]
        }
      ],
      "source": [
        "from scipy import stats"
      ]
    },
    {
      "cell_type": "code",
      "execution_count": 6,
      "metadata": {
        "id": "crpxEMh-BSI7"
      },
      "outputs": [],
      "source": [
        "pearson_corr, _ = stats.pearsonr(hours_studied, test_scores)\n"
      ]
    },
    {
      "cell_type": "markdown",
      "metadata": {
        "id": "tWbJ57WGBtcj"
      },
      "source": [
        "Here’s how `stats.pearsonr` works:\n",
        "\n",
        "-   It computes the Pearson correlation coefficient and the p-value for testing non-correlation.\n",
        "-   The first value returned is the correlation coefficient, and the second is the p-value."
      ]
    },
    {
      "cell_type": "code",
      "execution_count": 7,
      "metadata": {
        "colab": {
          "base_uri": "https://localhost:8080/"
        },
        "id": "jD8gtKiLBs1D",
        "outputId": "79b283c4-7823-4966-b183-60f5d855d9de"
      },
      "outputs": [
        {
          "name": "stdout",
          "output_type": "stream",
          "text": [
            "Pearson Correlation Coefficient: 0.99\n"
          ]
        }
      ],
      "source": [
        "print(f\"Pearson Correlation Coefficient: {pearson_corr:.2f}\")\n"
      ]
    },
    {
      "cell_type": "markdown",
      "metadata": {
        "id": "y43HLMTMB-gK"
      },
      "source": [
        "\n",
        "**Calculate Other Types of Correlations**\n",
        "\n",
        "For example, Spearman’s rank correlation can be calculated as follows:"
      ]
    },
    {
      "cell_type": "code",
      "execution_count": 8,
      "metadata": {
        "colab": {
          "base_uri": "https://localhost:8080/"
        },
        "id": "naQl3yy-B-8o",
        "outputId": "11725088-5a29-498d-8a79-f6939709d065"
      },
      "outputs": [
        {
          "name": "stdout",
          "output_type": "stream",
          "text": [
            "Spearman Rank Correlation Coefficient: 1.00\n"
          ]
        }
      ],
      "source": [
        "spearman_corr, _ = stats.spearmanr(hours_studied, test_scores)\n",
        "print(f\"Spearman Rank Correlation Coefficient: {spearman_corr:.2f}\")\n"
      ]
    },
    {
      "cell_type": "code",
      "execution_count": 9,
      "metadata": {
        "id": "HEzIPOUKCSjs"
      },
      "outputs": [],
      "source": [
        "# Calculate Kendall’s Tau correlation coefficient\n",
        "kendall_tau, _ = stats.kendalltau(hours_studied, test_scores)"
      ]
    },
    {
      "cell_type": "code",
      "execution_count": 10,
      "metadata": {
        "colab": {
          "base_uri": "https://localhost:8080/"
        },
        "id": "uZJN5Hf1CVMy",
        "outputId": "9976c294-2700-420c-d915-540008507066"
      },
      "outputs": [
        {
          "name": "stdout",
          "output_type": "stream",
          "text": [
            "Kendall’s Tau Correlation Coefficient: 1.00\n"
          ]
        }
      ],
      "source": [
        "# Print the result\n",
        "print(f\"Kendall’s Tau Correlation Coefficient: {kendall_tau:.2f}\")"
      ]
    },
    {
      "cell_type": "markdown",
      "metadata": {
        "id": "8CVt-MoFCElu"
      },
      "source": [
        "\n",
        "#### **Explanation**\n",
        "\n",
        "-   **Pearson Correlation Coefficient:** Measures the linear relationship between two datasets. It is sensitive to outliers.\n",
        "-   **Spearman Rank Correlation Coefficient:** Measures the monotonic relationship between two datasets. It is less sensitive to outliers and non-linear relationships.\n",
        "-   **Kendall’s Tau Correlation Coefficient:** Measures the ordinal association between two variables. It evaluates the strength of the monotonic relationship between the variables.\n",
        "    -   **Value Range:** The coefficient ranges from -1 to 1.\n",
        "        -   **1** indicates a perfect positive association.\n",
        "        -   **-1** indicates a perfect negative association.\n",
        "        -   **0** indicates no association.\n",
        "\n",
        "Kendall's tau is often preferred over Pearson's or Spearman's when dealing with ordinal data or when you want a measure less sensitive to outlier\n",
        "\n",
        "This example illustrates how to use SciPy to compute different types of correlation coefficients and provides insight into the relationship between datasets."
      ]
    },
    {
      "cell_type": "markdown",
      "metadata": {
        "id": "8FnZYrx8CkP8"
      },
      "source": [
        "\n",
        "### **Example: Calculating Correlation with Pandas**\n",
        "\n",
        "Let’s use the same datasets: hours studied and test scores.\n",
        "\n",
        "#### **Step-by-Step Calculation**\n",
        "\n",
        "1.  **Import the Necessary Libraries:**"
      ]
    },
    {
      "cell_type": "code",
      "execution_count": 11,
      "metadata": {
        "id": "aLAa_blXCFSA"
      },
      "outputs": [],
      "source": [
        "import pandas as pd\n"
      ]
    },
    {
      "cell_type": "markdown",
      "metadata": {
        "id": "iUkzIdklCnHV"
      },
      "source": [
        "## Create a DataFrame with the Datasets:\n",
        "\n"
      ]
    },
    {
      "cell_type": "code",
      "execution_count": 12,
      "metadata": {
        "id": "YidpEI6kCpee"
      },
      "outputs": [],
      "source": [
        "data = {\n",
        "    'Hours_Studied': [1, 2, 3, 4, 5],\n",
        "    'Test_Scores': [50, 55, 65, 70, 80]\n",
        "}\n",
        "df = pd.DataFrame(data)\n"
      ]
    },
    {
      "cell_type": "markdown",
      "metadata": {
        "id": "jButMgmACrJR"
      },
      "source": [
        "## Calculate the Pearson Correlation Coefficient:\n",
        "\n"
      ]
    },
    {
      "cell_type": "code",
      "execution_count": 13,
      "metadata": {
        "id": "4d7qXvjBCtoc"
      },
      "outputs": [],
      "source": [
        "pearson_corr = df.corr(method='pearson')\n",
        "#This computes the Pearson correlation coefficient for all pairs of columns in the DataFrame.\n",
        "\n"
      ]
    },
    {
      "cell_type": "markdown",
      "metadata": {
        "id": "3gw92K5oCxFH"
      },
      "source": [
        "# Print the Pearson Correlation Matrix:\n",
        "\n"
      ]
    },
    {
      "cell_type": "code",
      "execution_count": 14,
      "metadata": {
        "colab": {
          "base_uri": "https://localhost:8080/"
        },
        "id": "k8_08ULKCzHs",
        "outputId": "b17052dd-a457-44b8-9608-e8901f1d10c4"
      },
      "outputs": [
        {
          "name": "stdout",
          "output_type": "stream",
          "text": [
            "Pearson Correlation Matrix:\n",
            "               Hours_Studied  Test_Scores\n",
            "Hours_Studied       1.000000     0.993399\n",
            "Test_Scores         0.993399     1.000000\n"
          ]
        }
      ],
      "source": [
        "print(\"Pearson Correlation Matrix:\")\n",
        "print(pearson_corr)\n"
      ]
    },
    {
      "cell_type": "markdown",
      "metadata": {
        "id": "y9Wm_QmcC2ML"
      },
      "source": [
        "## Calculate Other Types of Correlation (Spearman and Kendall):\n",
        "\n"
      ]
    },
    {
      "cell_type": "code",
      "execution_count": 15,
      "metadata": {
        "colab": {
          "base_uri": "https://localhost:8080/"
        },
        "id": "z4TAhNaBC4CP",
        "outputId": "6893a2d8-e241-49fb-8d3a-2c9980fd12f9"
      },
      "outputs": [
        {
          "name": "stdout",
          "output_type": "stream",
          "text": [
            "\n",
            "Spearman Correlation Matrix:\n",
            "               Hours_Studied  Test_Scores\n",
            "Hours_Studied            1.0          1.0\n",
            "Test_Scores              1.0          1.0\n",
            "\n",
            "Kendall Correlation Matrix:\n",
            "               Hours_Studied  Test_Scores\n",
            "Hours_Studied            1.0          1.0\n",
            "Test_Scores              1.0          1.0\n"
          ]
        }
      ],
      "source": [
        "spearman_corr = df.corr(method='spearman')\n",
        "kendall_corr = df.corr(method='kendall')\n",
        "\n",
        "print(\"\\nSpearman Correlation Matrix:\")\n",
        "print(spearman_corr)\n",
        "\n",
        "print(\"\\nKendall Correlation Matrix:\")\n",
        "print(kendall_corr)\n"
      ]
    },
    {
      "cell_type": "markdown",
      "metadata": {
        "id": "4wSdNrzyC8SI"
      },
      "source": [
        "#### **Explanation**\n",
        "\n",
        "-   **Pearson Correlation Coefficient:** Measures linear relationships.\n",
        "-   **Spearman Rank Correlation Coefficient:** Measures monotonic relationships.\n",
        "-   **Kendall’s Tau Correlation Coefficient:** Measures ordinal associations.\n",
        "\n",
        "Pandas makes it easy to compute these correlations and visualize how different variables in your dataset relate to one another."
      ]
    }
  ],
  "metadata": {
    "colab": {
      "provenance": []
    },
    "kernelspec": {
      "display_name": "Python 3",
      "name": "python3"
    },
    "language_info": {
      "codemirror_mode": {
        "name": "ipython",
        "version": 3
      },
      "file_extension": ".py",
      "mimetype": "text/x-python",
      "name": "python",
      "nbconvert_exporter": "python",
      "pygments_lexer": "ipython3",
      "version": "3.11.0"
    }
  },
  "nbformat": 4,
  "nbformat_minor": 0
}
